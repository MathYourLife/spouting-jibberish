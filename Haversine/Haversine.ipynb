{
 "cells": [
  {
   "cell_type": "markdown",
   "metadata": {},
   "source": [
    "## Calculate the GPS Distance with the Haversine Formula\n",
    "\n",
    "* Dan Couture [@MathYourLife](https://twitter.com/MathYourLife), [github](https://github.com/MathYourLife)\n",
    "* 2015-03-05\n",
    "\n",
    "### Problem\n",
    "\n",
    "I've got the start and end gps location from an excursion across town and need to determine the travel distance\n",
    "\n",
    "    start: 43.059535, -71.013171\n",
    "    end:   43.083620, -70.892085\n",
    "\n",
    "You could always use [google maps](https://www.google.com/maps/dir/43.059535,+-71.013171/%2743.08361,-70.89202%27/), but that would just be cheating.\n",
    "\n",
    "### Haversine Formula\n",
    "\n",
    "The goal for this formula is to calculate the shortest great circle distance between two points on the globe designated by latitude and longitudes.  The added benefit of the Haversine equation is that it calculates the central angle as well where $s = r\\theta$.\n",
    "\n",
    "![](https://software.intel.com/sites/default/files/great%20circle.png)\n",
    "source: https://software.intel.com/sites/default/files/great%20circle.png\n",
    "\n",
    "The Haversine formula is mainly based on calculation of the central angle, $\\theta$, between two gps coordinates.  Using the formula for arc length on a sphere\n",
    "\n",
    "$$\n",
    "s = r \\theta\n",
    "$$\n",
    "\n",
    "where $r$ is the Earth's radius, and $\\theta$ is the central angle calculated as\n",
    "\n",
    "$$\n",
    "\\theta = 2 \\arcsin\\left( \\sqrt{\\sin^2 \\left(\\frac{\\phi_2-\\phi_1}{2}\\right) + \\cos(\\phi_1)\\cos(\\phi_2)\\sin^2 \\left( \\frac{\\lambda_2-\\lambda_1}{2} \\right) } \\right)\n",
    "$$\n",
    "\n",
    "with:\n",
    "\n",
    "$$\n",
    "\\begin{align}\n",
    "\\phi &= \\text{latitude}\\\\\n",
    "\\lambda &= \\text{longitude}\\\\\n",
    "\\end{align}\n",
    "$$"
   ]
  },
  {
   "cell_type": "code",
   "execution_count": 1,
   "metadata": {
    "collapsed": true
   },
   "outputs": [],
   "source": [
    "import numpy as np\n",
    "import math\n",
    "\n",
    "# Mean radius of the earth\n",
    "EARTH_RADIUS = 6371.009\n",
    "\n",
    "def haversine(lat1, lon1, lat2, lon2):\n",
    "    \"\"\"\n",
    "    Calculate the great circle distance between two points\n",
    "    on the earth (specified in decimal degrees)\n",
    "    \n",
    "    Return (central angle, distance between points in km)\n",
    "    \"\"\"\n",
    "    # convert decimal degrees to radians\n",
    "    lat1, lon1, lat2, lon2 = [math.radians(x) for x in [lat1, lon1, lat2, lon2]]\n",
    "\n",
    "    # haversine formula\n",
    "    dlon = lon2 - lon1\n",
    "    dlat = lat2 - lat1\n",
    "    \n",
    "    a = math.sin(dlat/2)**2 + math.cos(lat1) * math.cos(lat2) * math.sin(dlon/2)**2\n",
    "    central_angle = 2 * math.asin(math.sqrt(a))\n",
    "\n",
    "    # s = r * theta\n",
    "    km = EARTH_RADIUS * central_angle\n",
    "    return (central_angle, km)"
   ]
  },
  {
   "cell_type": "markdown",
   "metadata": {},
   "source": [
    "### Calculate Excursion Distance"
   ]
  },
  {
   "cell_type": "code",
   "execution_count": 2,
   "metadata": {
    "collapsed": false
   },
   "outputs": [
    {
     "name": "stdout",
     "output_type": "stream",
     "text": [
      "Central Angle of 0.00160001 radians\n",
      "Arc length distance of 10.1937 km\n"
     ]
    }
   ],
   "source": [
    "start = (43.059535, -71.013171)\n",
    "end = (43.083620, -70.892085)\n",
    "\n",
    "central_angle, km = haversine(*(start + end))\n",
    "\n",
    "print(\"Central Angle of %g radians\" % central_angle)\n",
    "print(\"Arc length distance of %g km\" % km)"
   ]
  },
  {
   "cell_type": "markdown",
   "metadata": {},
   "source": [
    "### Earth is not a sphere\n",
    "\n",
    "The Haversine is a straight forward formula that provides an approximation for the distance between gps coordinates.  The Earth of course is not spherical, and elevation changes including terrain profiles will increase actual distance traveled."
   ]
  },
  {
   "cell_type": "markdown",
   "metadata": {},
   "source": [
    "## References:\n",
    "\n",
    "* http://www.gcmap.com/faq/gccalc#ellipsoid\n",
    "* http://stackoverflow.com/questions/4913349/haversine-formula-in-python-bearing-and-distance-between-two-gps-points/4913653#4913653\n",
    "* http://www.gcmap.com/mapui?P=DXB-SFO%2CBINP&PM=b%3Adisc7%2B%25U%2Cp%3Adisc7%2B%25N&MS=wls&PW=2&DU=km"
   ]
  }
 ],
 "metadata": {
  "kernelspec": {
   "display_name": "Python 3",
   "language": "python",
   "name": "python3"
  },
  "language_info": {
   "codemirror_mode": {
    "name": "ipython",
    "version": 3
   },
   "file_extension": ".py",
   "mimetype": "text/x-python",
   "name": "python",
   "nbconvert_exporter": "python",
   "pygments_lexer": "ipython3",
   "version": "3.4.2"
  }
 },
 "nbformat": 4,
 "nbformat_minor": 0
}
